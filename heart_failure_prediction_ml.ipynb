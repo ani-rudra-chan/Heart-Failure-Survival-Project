{
 "cells": [
  {
   "cell_type": "markdown",
   "metadata": {},
   "source": [
    "# Predicting Survival of Heart Failure Patients with Machine Learning Models"
   ]
  },
  {
   "cell_type": "code",
   "execution_count": 1,
   "metadata": {},
   "outputs": [],
   "source": [
    "#General Purpose Libraries\n",
    "import pandas as pd\n",
    "import numpy as np\n",
    "import matplotlib.pyplot as plt\n",
    "import seaborn as sns\n",
    "%matplotlib inline\n",
    "\n",
    "#Machine Learning Libraries\n",
    "from sklearn.preprocessing import StandardScaler\n",
    "from sklearn import model_selection\n",
    "from sklearn.model_selection import StratifiedKFold\n",
    "from sklearn.linear_model import LogisticRegression\n",
    "from sklearn.svm import SVC\n",
    "from sklearn.model_selection import cross_validate"
   ]
  },
  {
   "cell_type": "markdown",
   "metadata": {},
   "source": [
    "## Importing the dataset and pre-processing it"
   ]
  },
  {
   "cell_type": "code",
   "execution_count": 2,
   "metadata": {},
   "outputs": [],
   "source": [
    "def data_preprocessor(file):\n",
    "    #Reading the file into a dataframe\n",
    "    df = pd.read_excel(file)\n",
    "    #Rearranging the columns\n",
    "    df = df[['sex', 'age', \n",
    "         'smoking', 'diabetes', 'high_blood_pressure',\n",
    "         'anaemia', 'platelets', 'ejection_fraction',\n",
    "         'creatinine_phosphokinase', 'serum_creatinine','serum_sodium',\n",
    "         'time', 'DEATH_EVENT']]\n",
    "    #Renaming the columns to keep them short\n",
    "    df = df.rename(columns={'smoking':'smk',\n",
    "                        'diabetes':'dia',\n",
    "                        'anaemia':'anm',\n",
    "                        'platelets':'plt',\n",
    "                        'high_blood_pressure':'hbp',\n",
    "                        'creatinine_phosphokinase':'cpk',\n",
    "                        'ejection_fraction':'ejf',\n",
    "                        'serum_creatinine':'scr',\n",
    "                        'serum_sodium':'sna',\n",
    "                        'DEATH_EVENT':'death'})\n",
    "    return df"
   ]
  },
  {
   "cell_type": "code",
   "execution_count": 3,
   "metadata": {},
   "outputs": [],
   "source": [
    "df = data_preprocessor('heart.xlsx')"
   ]
  },
  {
   "cell_type": "code",
   "execution_count": 4,
   "metadata": {},
   "outputs": [
    {
     "name": "stdout",
     "output_type": "stream",
     "text": [
      "<class 'pandas.core.frame.DataFrame'>\n",
      "RangeIndex: 299 entries, 0 to 298\n",
      "Data columns (total 13 columns):\n",
      " #   Column  Non-Null Count  Dtype  \n",
      "---  ------  --------------  -----  \n",
      " 0   sex     299 non-null    int64  \n",
      " 1   age     299 non-null    float64\n",
      " 2   smk     299 non-null    int64  \n",
      " 3   dia     299 non-null    int64  \n",
      " 4   hbp     299 non-null    int64  \n",
      " 5   anm     299 non-null    int64  \n",
      " 6   plt     299 non-null    float64\n",
      " 7   ejf     299 non-null    int64  \n",
      " 8   cpk     299 non-null    int64  \n",
      " 9   scr     299 non-null    float64\n",
      " 10  sna     299 non-null    int64  \n",
      " 11  time    299 non-null    int64  \n",
      " 12  death   299 non-null    int64  \n",
      "dtypes: float64(3), int64(10)\n",
      "memory usage: 30.5 KB\n"
     ]
    }
   ],
   "source": [
    "df.info()"
   ]
  },
  {
   "cell_type": "markdown",
   "metadata": {},
   "source": [
    "## Separating Predictors and Targets"
   ]
  },
  {
   "cell_type": "code",
   "execution_count": 5,
   "metadata": {},
   "outputs": [],
   "source": [
    "cat_feat = df[['sex', 'smk', 'dia', 'hbp', 'anm']]\n",
    "num_feat = df[['age', 'plt', 'ejf', 'cpk', 'scr', 'sna']]\n",
    "\n",
    "predictors = pd.concat([cat_feat, num_feat],axis=1)\n",
    "target = df['death']"
   ]
  },
  {
   "cell_type": "markdown",
   "metadata": {},
   "source": [
    "## Checking for target class distribution"
   ]
  },
  {
   "cell_type": "code",
   "execution_count": 6,
   "metadata": {},
   "outputs": [
    {
     "data": {
      "text/plain": [
       "0    0.67893\n",
       "1    0.32107\n",
       "Name: death, dtype: float64"
      ]
     },
     "execution_count": 6,
     "metadata": {},
     "output_type": "execute_result"
    }
   ],
   "source": [
    "target.value_counts(normalize=True)"
   ]
  },
  {
   "cell_type": "markdown",
   "metadata": {},
   "source": [
    "The target classes are imbalanced"
   ]
  },
  {
   "cell_type": "markdown",
   "metadata": {},
   "source": [
    "## Feature Scaling"
   ]
  },
  {
   "cell_type": "code",
   "execution_count": 7,
   "metadata": {},
   "outputs": [],
   "source": [
    "scaler = StandardScaler()\n",
    "scaled_feat = pd.DataFrame(scaler.fit_transform(num_feat.values),\n",
    "                           columns = num_feat.columns)\n",
    "\n",
    "scaled_predictors = pd.concat([cat_feat, scaled_feat], axis=1)"
   ]
  },
  {
   "cell_type": "markdown",
   "metadata": {},
   "source": [
    "## Building Machine Learning Models"
   ]
  },
  {
   "cell_type": "markdown",
   "metadata": {},
   "source": [
    "### Non-penalized Logisitic Regression Model"
   ]
  },
  {
   "cell_type": "code",
   "execution_count": 8,
   "metadata": {},
   "outputs": [
    {
     "name": "stdout",
     "output_type": "stream",
     "text": [
      "fit_time 0.01238079071044922\n",
      "score_time 0.004261374473571777\n",
      "test_accuracy 0.7389655172413793\n",
      "test_balanced_accuracy 0.6590873015873016\n",
      "test_precision 0.672142857142857\n",
      "test_recall 0.43555555555555553\n",
      "test_roc_auc 0.7596878306878307\n"
     ]
    }
   ],
   "source": [
    "#Stratified 8 fold cross validation\n",
    "strat_kfold = StratifiedKFold(n_splits=10, shuffle=True)\n",
    "\n",
    "#Instantiating the logistic regressor\n",
    "logreg_clf = LogisticRegression()\n",
    "x = scaled_predictors.values\n",
    "y = target.values\n",
    "\n",
    "#Running the model and tallying results of stratified 8-fold cross validation\n",
    "result1 = cross_validate(logreg_clf, x, y, cv=strat_kfold, scoring=['accuracy',\n",
    "                                                                    'balanced_accuracy',\n",
    "                                                                    'precision',\n",
    "                                                                    'recall',\n",
    "                                                                    'roc_auc'])\n",
    "for key, values in result1.items():\n",
    "    print(key, values.mean())"
   ]
  },
  {
   "cell_type": "markdown",
   "metadata": {},
   "source": [
    "### Penalized Logisitc Regression Model"
   ]
  },
  {
   "cell_type": "code",
   "execution_count": 9,
   "metadata": {},
   "outputs": [
    {
     "name": "stdout",
     "output_type": "stream",
     "text": [
      "fit_time 0.005613851547241211\n",
      "score_time 0.003759169578552246\n",
      "test_accuracy 0.712183908045977\n",
      "test_balanced_accuracy 0.7151190476190475\n",
      "test_precision 0.5449309514015397\n",
      "test_recall 0.7200000000000001\n",
      "test_roc_auc 0.7719259259259259\n"
     ]
    }
   ],
   "source": [
    "#Stratified 8 fold cross validation\n",
    "strat_kfold = StratifiedKFold(n_splits=10, shuffle=True)\n",
    "\n",
    "#Instantiating the logistic regressor\n",
    "logreg_clf_pen = LogisticRegression(class_weight='balanced')\n",
    "x = scaled_predictors.values\n",
    "y = target.values\n",
    "\n",
    "#Running the model and tallying results of stratified 8-fold cross validation\n",
    "result2 = cross_validate(logreg_clf_pen, x, y, cv=strat_kfold, scoring=['accuracy',\n",
    "                                                                    'balanced_accuracy',\n",
    "                                                                    'precision',\n",
    "                                                                    'recall',\n",
    "                                                                    'roc_auc'])\n",
    "for key, values in result2.items():\n",
    "    print(key, values.mean())"
   ]
  },
  {
   "cell_type": "code",
   "execution_count": 10,
   "metadata": {
    "scrolled": false
   },
   "outputs": [
    {
     "data": {
      "text/html": [
       "<div>\n",
       "<style scoped>\n",
       "    .dataframe tbody tr th:only-of-type {\n",
       "        vertical-align: middle;\n",
       "    }\n",
       "\n",
       "    .dataframe tbody tr th {\n",
       "        vertical-align: top;\n",
       "    }\n",
       "\n",
       "    .dataframe thead th {\n",
       "        text-align: right;\n",
       "    }\n",
       "</style>\n",
       "<table border=\"1\" class=\"dataframe\">\n",
       "  <thead>\n",
       "    <tr style=\"text-align: right;\">\n",
       "      <th></th>\n",
       "      <th>Non-Penalized LogReg</th>\n",
       "      <th>Penalized LogReg</th>\n",
       "    </tr>\n",
       "  </thead>\n",
       "  <tbody>\n",
       "    <tr>\n",
       "      <th>fit_time</th>\n",
       "      <td>0.012381</td>\n",
       "      <td>0.005614</td>\n",
       "    </tr>\n",
       "    <tr>\n",
       "      <th>score_time</th>\n",
       "      <td>0.004261</td>\n",
       "      <td>0.003759</td>\n",
       "    </tr>\n",
       "    <tr>\n",
       "      <th>test_accuracy</th>\n",
       "      <td>0.738966</td>\n",
       "      <td>0.712184</td>\n",
       "    </tr>\n",
       "    <tr>\n",
       "      <th>test_balanced_accuracy</th>\n",
       "      <td>0.659087</td>\n",
       "      <td>0.715119</td>\n",
       "    </tr>\n",
       "    <tr>\n",
       "      <th>test_precision</th>\n",
       "      <td>0.672143</td>\n",
       "      <td>0.544931</td>\n",
       "    </tr>\n",
       "    <tr>\n",
       "      <th>test_recall</th>\n",
       "      <td>0.435556</td>\n",
       "      <td>0.720000</td>\n",
       "    </tr>\n",
       "    <tr>\n",
       "      <th>test_roc_auc</th>\n",
       "      <td>0.759688</td>\n",
       "      <td>0.771926</td>\n",
       "    </tr>\n",
       "  </tbody>\n",
       "</table>\n",
       "</div>"
      ],
      "text/plain": [
       "                        Non-Penalized LogReg  Penalized LogReg\n",
       "fit_time                            0.012381          0.005614\n",
       "score_time                          0.004261          0.003759\n",
       "test_accuracy                       0.738966          0.712184\n",
       "test_balanced_accuracy              0.659087          0.715119\n",
       "test_precision                      0.672143          0.544931\n",
       "test_recall                         0.435556          0.720000\n",
       "test_roc_auc                        0.759688          0.771926"
      ]
     },
     "execution_count": 10,
     "metadata": {},
     "output_type": "execute_result"
    }
   ],
   "source": [
    "pd.concat([pd.DataFrame(result1).mean(),\n",
    "           pd.DataFrame(result2).mean()],axis=1).rename(columns={0:'Non-Penalized LogReg',1:'Penalized LogReg'})"
   ]
  },
  {
   "cell_type": "markdown",
   "metadata": {},
   "source": [
    "### Non-penalized Spport Vector Classifier"
   ]
  },
  {
   "cell_type": "code",
   "execution_count": 11,
   "metadata": {},
   "outputs": [
    {
     "name": "stdout",
     "output_type": "stream",
     "text": [
      "fit_time 0.003960132598876953\n",
      "score_time 0.005464863777160644\n",
      "test_accuracy 0.7062068965517241\n",
      "test_balanced_accuracy 0.6321428571428571\n",
      "test_precision 0.5658730158730159\n",
      "test_recall 0.42666666666666664\n",
      "test_roc_auc 0.7741190476190477\n"
     ]
    }
   ],
   "source": [
    "#Stratified 8 fold cross validation\n",
    "strat_kfold = StratifiedKFold(n_splits=10, shuffle=True)\n",
    "\n",
    "#Instantiating the SVC\n",
    "svc_clf = SVC(kernel='rbf')\n",
    "x = scaled_predictors.values\n",
    "y = target.values\n",
    "\n",
    "#Running the model and tallying results of stratified 8-fold cross validation\n",
    "result3 = cross_validate(svc_clf, x, y, cv=strat_kfold, scoring=['accuracy',\n",
    "                                                                    'balanced_accuracy',\n",
    "                                                                    'precision',\n",
    "                                                                    'recall',\n",
    "                                                                    'roc_auc'])\n",
    "for key, values in result3.items():\n",
    "    print(key, values.mean())"
   ]
  },
  {
   "cell_type": "markdown",
   "metadata": {},
   "source": [
    "### Penalized Logisitc Regression Model"
   ]
  },
  {
   "cell_type": "code",
   "execution_count": 12,
   "metadata": {},
   "outputs": [
    {
     "name": "stdout",
     "output_type": "stream",
     "text": [
      "fit_time 0.004862165451049805\n",
      "score_time 0.008171987533569337\n",
      "test_accuracy 0.7422988505747126\n",
      "test_balanced_accuracy 0.7437301587301588\n",
      "test_precision 0.5838141025641026\n",
      "test_recall 0.7488888888888889\n",
      "test_roc_auc 0.7988386243386244\n"
     ]
    }
   ],
   "source": [
    "#Stratified 8 fold cross validation\n",
    "strat_kfold = StratifiedKFold(n_splits=10, shuffle=True)\n",
    "\n",
    "#Instantiating the SVC\n",
    "svc_clf_pen = SVC(kernel='rbf', class_weight='balanced')\n",
    "x = scaled_predictors.values\n",
    "y = target.values\n",
    "\n",
    "#Running the model and tallying results of stratified 8-fold cross validation\n",
    "result4 = cross_validate(svc_clf_pen, x, y, cv=strat_kfold, scoring=['accuracy',\n",
    "                                                                    'balanced_accuracy',\n",
    "                                                                    'precision',\n",
    "                                                                    'recall',\n",
    "                                                                    'roc_auc'])\n",
    "for key, values in result4.items():\n",
    "    print(key, values.mean())"
   ]
  },
  {
   "cell_type": "code",
   "execution_count": 13,
   "metadata": {
    "scrolled": true
   },
   "outputs": [
    {
     "data": {
      "text/html": [
       "<div>\n",
       "<style scoped>\n",
       "    .dataframe tbody tr th:only-of-type {\n",
       "        vertical-align: middle;\n",
       "    }\n",
       "\n",
       "    .dataframe tbody tr th {\n",
       "        vertical-align: top;\n",
       "    }\n",
       "\n",
       "    .dataframe thead th {\n",
       "        text-align: right;\n",
       "    }\n",
       "</style>\n",
       "<table border=\"1\" class=\"dataframe\">\n",
       "  <thead>\n",
       "    <tr style=\"text-align: right;\">\n",
       "      <th></th>\n",
       "      <th>Non-Penalized SVC</th>\n",
       "      <th>Penalized SVC</th>\n",
       "    </tr>\n",
       "  </thead>\n",
       "  <tbody>\n",
       "    <tr>\n",
       "      <th>fit_time</th>\n",
       "      <td>0.003960</td>\n",
       "      <td>0.004862</td>\n",
       "    </tr>\n",
       "    <tr>\n",
       "      <th>score_time</th>\n",
       "      <td>0.005465</td>\n",
       "      <td>0.008172</td>\n",
       "    </tr>\n",
       "    <tr>\n",
       "      <th>test_accuracy</th>\n",
       "      <td>0.706207</td>\n",
       "      <td>0.742299</td>\n",
       "    </tr>\n",
       "    <tr>\n",
       "      <th>test_balanced_accuracy</th>\n",
       "      <td>0.632143</td>\n",
       "      <td>0.743730</td>\n",
       "    </tr>\n",
       "    <tr>\n",
       "      <th>test_precision</th>\n",
       "      <td>0.565873</td>\n",
       "      <td>0.583814</td>\n",
       "    </tr>\n",
       "    <tr>\n",
       "      <th>test_recall</th>\n",
       "      <td>0.426667</td>\n",
       "      <td>0.748889</td>\n",
       "    </tr>\n",
       "    <tr>\n",
       "      <th>test_roc_auc</th>\n",
       "      <td>0.774119</td>\n",
       "      <td>0.798839</td>\n",
       "    </tr>\n",
       "  </tbody>\n",
       "</table>\n",
       "</div>"
      ],
      "text/plain": [
       "                        Non-Penalized SVC  Penalized SVC\n",
       "fit_time                         0.003960       0.004862\n",
       "score_time                       0.005465       0.008172\n",
       "test_accuracy                    0.706207       0.742299\n",
       "test_balanced_accuracy           0.632143       0.743730\n",
       "test_precision                   0.565873       0.583814\n",
       "test_recall                      0.426667       0.748889\n",
       "test_roc_auc                     0.774119       0.798839"
      ]
     },
     "execution_count": 13,
     "metadata": {},
     "output_type": "execute_result"
    }
   ],
   "source": [
    "pd.concat([pd.DataFrame(result3).mean(),\n",
    "           pd.DataFrame(result4).mean()],axis=1).rename(columns={0:'Non-Penalized SVC',1:'Penalized SVC'})"
   ]
  },
  {
   "cell_type": "code",
   "execution_count": null,
   "metadata": {},
   "outputs": [],
   "source": []
  }
 ],
 "metadata": {
  "kernelspec": {
   "display_name": "Python 3",
   "language": "python",
   "name": "python3"
  },
  "language_info": {
   "codemirror_mode": {
    "name": "ipython",
    "version": 3
   },
   "file_extension": ".py",
   "mimetype": "text/x-python",
   "name": "python",
   "nbconvert_exporter": "python",
   "pygments_lexer": "ipython3",
   "version": "3.7.6"
  }
 },
 "nbformat": 4,
 "nbformat_minor": 4
}
